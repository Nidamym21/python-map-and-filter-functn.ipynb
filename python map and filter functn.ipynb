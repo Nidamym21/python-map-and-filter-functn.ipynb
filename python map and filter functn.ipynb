{
 "cells": [
  {
   "cell_type": "markdown",
   "id": "b3e3b2d6-1ff0-438c-b5da-7bd41aa8276a",
   "metadata": {},
   "source": [
    "# Map and Filter Function\n",
    "\n",
    "- In Python, both map and filter are higher-order functions that work on sequences like lists or tuples.\n",
    "- They are commonly used with lambda functions but can also accept normal functions."
   ]
  },
  {
   "cell_type": "markdown",
   "id": "60d1293b-ec20-4680-92a8-b069a4f691f8",
   "metadata": {},
   "source": [
    "# Map function\n",
    " - It applies a function to every item in a list (or another sequence) and gives you a new list with the results.\n",
    " - It means to perform the function of the each element and give the output of the each element."
   ]
  },
  {
   "cell_type": "code",
   "execution_count": 15,
   "id": "d98e2155-92e7-4c68-82b0-8b29dcdb5393",
   "metadata": {},
   "outputs": [
    {
     "data": {
      "text/plain": [
       "[2, 4, 6, 8]"
      ]
     },
     "execution_count": 15,
     "metadata": {},
     "output_type": "execute_result"
    }
   ],
   "source": [
    "# List of numbers\n",
    "numbers = [1, 2, 3, 4]\n",
    "\n",
    "# Multiply each number by 2\n",
    "doubled = list(map(lambda x: x * 2, numbers))\n",
    "doubled  \n",
    "\n"
   ]
  },
  {
   "cell_type": "code",
   "execution_count": 4,
   "id": "2dda848a-4711-4eb9-87e0-bcbca4a72faf",
   "metadata": {},
   "outputs": [
    {
     "name": "stdout",
     "output_type": "stream",
     "text": [
      "[100, 400, 900]\n"
     ]
    }
   ],
   "source": [
    "Num=[10,20,30]\n",
    "result=map(lambda n:n**2,Num)\n",
    "print(list(result))\n",
    "     "
   ]
  },
  {
   "cell_type": "code",
   "execution_count": 5,
   "id": "f6f80f9d-c3b9-4e41-b3b4-a86f34cdb329",
   "metadata": {},
   "outputs": [
    {
     "name": "stdout",
     "output_type": "stream",
     "text": [
      "[4, 6, 8]\n"
     ]
    }
   ],
   "source": [
    "\n",
    "num=[1,2,3]\n",
    "num2=[3,4,5]\n",
    "grade=map(lambda n1, n2:n1+n2,num,num2)\n",
    "print(list(grade))"
   ]
  },
  {
   "cell_type": "code",
   "execution_count": 6,
   "id": "7906b534-f7f8-4231-91e9-9cf899c46ad7",
   "metadata": {},
   "outputs": [
    {
     "name": "stdout",
     "output_type": "stream",
     "text": [
      "[False, False, False, False]\n"
     ]
    }
   ],
   "source": [
    "a=[1,2,5,7]\n",
    "add=list(map(lambda x:x%100==0,a))\n",
    "print(add)"
   ]
  },
  {
   "cell_type": "code",
   "execution_count": 7,
   "id": "39cdc21a-f557-43da-91ad-e9699d7000ec",
   "metadata": {},
   "outputs": [
    {
     "name": "stdout",
     "output_type": "stream",
     "text": [
      "[50, 70, 90]\n"
     ]
    }
   ],
   "source": [
    "list1 = [10, 20, 30]\n",
    "list2 = [40, 50, 60]\n",
    "summed = list(map(lambda x, y: x + y, list1, list2))\n",
    "print(summed)  \n"
   ]
  },
  {
   "cell_type": "code",
   "execution_count": 8,
   "id": "bd1e72fc-f67c-4411-8c7c-bfb9b1867122",
   "metadata": {},
   "outputs": [
    {
     "name": "stdout",
     "output_type": "stream",
     "text": [
      "['NIDA', 'SHREYA', 'ALINA']\n"
     ]
    }
   ],
   "source": [
    "\n",
    "name=[\"Nida\",\"Shreya\",\"Alina\"]\n",
    "result=map(lambda n:n.upper(),name)\n",
    "print(list(result))\n",
    "     "
   ]
  },
  {
   "cell_type": "code",
   "execution_count": 9,
   "id": "692466bf-56ff-4344-aa88-287a0b49c3f5",
   "metadata": {},
   "outputs": [
    {
     "name": "stdout",
     "output_type": "stream",
     "text": [
      "[False, False, True, False]\n"
     ]
    }
   ],
   "source": [
    "a=[740,50,3600,20]\n",
    "add=list(map(lambda x:x%100==0,a))\n",
    "print(add)"
   ]
  },
  {
   "cell_type": "code",
   "execution_count": 27,
   "id": "3c297ab9-fead-4dac-9670-6372fdebfcb6",
   "metadata": {},
   "outputs": [
    {
     "name": "stdout",
     "output_type": "stream",
     "text": [
      "[26, 90, 118, 130, 60]\n"
     ]
    }
   ],
   "source": [
    "x=[10,20,30,40,50]\n",
    "y=[16,70,88,90,10]\n",
    "z=map(lambda x,y : x+y,x,y)\n",
    "print(list(z))"
   ]
  },
  {
   "cell_type": "markdown",
   "id": "043c7aee-fde2-433c-a1f9-510294ea9b41",
   "metadata": {},
   "source": [
    "# Filter Function\n",
    "-  It checks every item in a list (or another sequence) and only keeps the ones that pass a test (return True).\n",
    "- It  means to filter the elements in the function and return only true values."
   ]
  },
  {
   "cell_type": "code",
   "execution_count": 16,
   "id": "ec7254a8-c130-47d1-a129-da051aa20813",
   "metadata": {},
   "outputs": [
    {
     "data": {
      "text/plain": [
       "[2, 4, 6]"
      ]
     },
     "execution_count": 16,
     "metadata": {},
     "output_type": "execute_result"
    }
   ],
   "source": [
    "# List of numbers\n",
    "numbers = [1, 2, 3, 4, 5, 6]\n",
    "\n",
    "# Keep only even numbers\n",
    "evens = list(filter(lambda x: x % 2 == 0, numbers))\n",
    "\n",
    "evens \n"
   ]
  },
  {
   "cell_type": "code",
   "execution_count": 20,
   "id": "f63aee9e-a4e1-4522-af56-0d75dfd57796",
   "metadata": {},
   "outputs": [
    {
     "name": "stdout",
     "output_type": "stream",
     "text": [
      "[8, 2, 5, 6]\n"
     ]
    }
   ],
   "source": [
    "\n",
    "num=[8,1,2,5,6]\n",
    "grade=filter(lambda n1:n1>1,num)\n",
    "print(list(grade))"
   ]
  },
  {
   "cell_type": "code",
   "execution_count": 21,
   "id": "fd3f096f-8725-42cb-9fac-b307c8b117fb",
   "metadata": {},
   "outputs": [
    {
     "name": "stdout",
     "output_type": "stream",
     "text": [
      "[2, 4, 6, 8, 10]\n"
     ]
    }
   ],
   "source": [
    "numbers = [1, 2, 3, 4, 5, 6,7,8,9,10]\n",
    "even_numbers = list(filter(lambda x: x % 2 == 0, numbers))\n",
    "print(even_numbers) "
   ]
  },
  {
   "cell_type": "code",
   "execution_count": 25,
   "id": "3b3e601f-c767-45e8-b338-707bd24b7f8a",
   "metadata": {},
   "outputs": [
    {
     "name": "stdout",
     "output_type": "stream",
     "text": [
      "[20, 70, 80, 18, 30, 40, 68, 79, 54, 86]\n"
     ]
    }
   ],
   "source": [
    "ages = [6,9,10,20,70,80,18,30,40,68,79,15,54,4,2,86]\n",
    "x = filter(lambda age: age >= 18, ages)\n",
    "print(list(x))"
   ]
  },
  {
   "cell_type": "code",
   "execution_count": 26,
   "id": "98d40d78-f0bb-456b-8235-c771098f64a5",
   "metadata": {},
   "outputs": [
    {
     "name": "stdout",
     "output_type": "stream",
     "text": [
      "[1, 3, 5, 7, 11]\n"
     ]
    }
   ],
   "source": [
    "numbers=[1,2,3,4,5,6,7,11,90]\n",
    "odd_numbers=list(filter(lambda x:x%2!=0,numbers))\n",
    "print(odd_numbers)"
   ]
  },
  {
   "cell_type": "markdown",
   "id": "42a4cf91-e0b9-475e-9f36-11dcc7d3ebc5",
   "metadata": {},
   "source": [
    "# Lambda Function\n",
    "\n",
    "- A lambda in Python is a way to create small, anonymous functions (functions without a name).\n",
    "  \n",
    "- These functions are often used when you need a function for a short time, like when using map(), filter(), or sort()."
   ]
  },
  {
   "cell_type": "code",
   "execution_count": 28,
   "id": "08e8466e-cd24-4fcf-afbb-adee6e45e636",
   "metadata": {},
   "outputs": [
    {
     "data": {
      "text/plain": [
       "10"
      ]
     },
     "execution_count": 28,
     "metadata": {},
     "output_type": "execute_result"
    }
   ],
   "source": [
    "double = lambda x: x * 2\n",
    "\n",
    "double(5) \n"
   ]
  },
  {
   "cell_type": "markdown",
   "id": "9546fbb7-8b98-48c9-b321-6a71c7e7a9e0",
   "metadata": {},
   "source": [
    "#### In map() and filter():"
   ]
  },
  {
   "cell_type": "code",
   "execution_count": 29,
   "id": "4181eb63-8bc0-4916-b553-b672db43d1c6",
   "metadata": {},
   "outputs": [
    {
     "name": "stdout",
     "output_type": "stream",
     "text": [
      "[2, 4, 6, 8]\n",
      "[2, 4]\n"
     ]
    }
   ],
   "source": [
    "numbers = [1, 2, 3, 4]\n",
    "\n",
    "# Using lambda to double the numbers\n",
    "doubled = list(map(lambda x: x * 2, numbers))\n",
    "print(doubled)  \n",
    "\n",
    "# Using lambda to filter even numbers\n",
    "evens = list(filter(lambda x: x % 2 == 0, numbers))\n",
    "print(evens)  "
   ]
  },
  {
   "cell_type": "code",
   "execution_count": 30,
   "id": "31c4e982-1ec4-49d4-b864-55b743b1d2d9",
   "metadata": {},
   "outputs": [
    {
     "data": {
      "text/plain": [
       "[100, 400, 900, 1600, 2500]"
      ]
     },
     "execution_count": 30,
     "metadata": {},
     "output_type": "execute_result"
    }
   ],
   "source": [
    "List=[10,20,30,40,50]\n",
    "Lambda_map=list(map(lambda x: x**2,List))\n",
    "Lambda_map"
   ]
  },
  {
   "cell_type": "code",
   "execution_count": 31,
   "id": "5b51817d-97dd-4040-9f39-e67c5d06fa65",
   "metadata": {},
   "outputs": [
    {
     "data": {
      "text/plain": [
       "[10, 20, 30, 40, 50, 60, 70]"
      ]
     },
     "execution_count": 31,
     "metadata": {},
     "output_type": "execute_result"
    }
   ],
   "source": [
    "numbers=[10,20,30,40,50,60,70]\n",
    "even_numbers=list(filter(lambda x: (x%2==0),numbers))\n",
    "even_numbers"
   ]
  },
  {
   "cell_type": "code",
   "execution_count": null,
   "id": "1d2aace1-35f8-40e7-9713-c12e6ffea54f",
   "metadata": {},
   "outputs": [],
   "source": []
  }
 ],
 "metadata": {
  "kernelspec": {
   "display_name": "Python 3 (ipykernel)",
   "language": "python",
   "name": "python3"
  },
  "language_info": {
   "codemirror_mode": {
    "name": "ipython",
    "version": 3
   },
   "file_extension": ".py",
   "mimetype": "text/x-python",
   "name": "python",
   "nbconvert_exporter": "python",
   "pygments_lexer": "ipython3",
   "version": "3.12.4"
  }
 },
 "nbformat": 4,
 "nbformat_minor": 5
}
